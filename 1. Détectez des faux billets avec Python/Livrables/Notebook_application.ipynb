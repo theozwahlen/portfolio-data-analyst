{
  "nbformat": 4,
  "nbformat_minor": 0,
  "metadata": {
    "colab": {
      "provenance": [],
      "collapsed_sections": [
        "7oRuynFjnQp_",
        "9dT1-4qHnqx0",
        "ORFvWiV_n3l6"
      ]
    },
    "kernelspec": {
      "name": "python3",
      "display_name": "Python 3"
    },
    "language_info": {
      "name": "python"
    }
  },
  "cells": [
    {
      "cell_type": "markdown",
      "source": [
        "# Application de prédiction automatique de la validité des billets\n",
        "Ce notebook permet de prédire si un billet est vrai ou faux à partir d’un fichier CSV, en utilisant le modèle Random Forest entraîné.\n"
      ],
      "metadata": {
        "id": "7oRuynFjnQp_"
      }
    },
    {
      "cell_type": "markdown",
      "source": [
        "# 1. Import des bibliothèques\n"
      ],
      "metadata": {
        "id": "9dT1-4qHnqx0"
      }
    },
    {
      "cell_type": "code",
      "source": [
        "import pandas as pd\n",
        "import numpy as np\n",
        "import io\n",
        "from IPython.display import display\n",
        "import ipywidgets as widgets\n",
        "import joblib\n"
      ],
      "metadata": {
        "id": "J14cnxlrnuO9"
      },
      "execution_count": null,
      "outputs": []
    },
    {
      "cell_type": "markdown",
      "source": [
        "# 2. Chargement du modèle Random Forest et du scaler\n"
      ],
      "metadata": {
        "id": "ORFvWiV_n3l6"
      }
    },
    {
      "cell_type": "code",
      "source": [
        "rf = joblib.load('model_rf.joblib')\n",
        "scaler = joblib.load('scaler.joblib')\n"
      ],
      "metadata": {
        "id": "2bfA-XcBpkRv"
      },
      "execution_count": null,
      "outputs": []
    },
    {
      "cell_type": "markdown",
      "source": [
        "# 3. Import du fichier CSV via un bouton interactif\n"
      ],
      "metadata": {
        "id": "x-HpPxOSpxh5"
      }
    },
    {
      "cell_type": "code",
      "source": [
        "upload_widget = widgets.FileUpload(\n",
        "    accept='.csv',\n",
        "    multiple=False\n",
        ")\n",
        "\n",
        "def handle_upload(change):\n",
        "    uploaded_file = list(upload_widget.value.values())[0]\n",
        "    content = uploaded_file['content']\n",
        "    df_imported = pd.read_csv(io.BytesIO(content))\n",
        "\n",
        "    global df_test\n",
        "    df_test = df_imported\n",
        "    display(df_test.head())\n",
        "\n",
        "upload_widget.observe(handle_upload, names='value')\n",
        "display(upload_widget)\n"
      ],
      "metadata": {
        "id": "qvcfJjoEp0SV"
      },
      "execution_count": null,
      "outputs": []
    },
    {
      "cell_type": "markdown",
      "source": [
        "# 4. Prédiction et affichage des résultats\n"
      ],
      "metadata": {
        "id": "ThuGOk0Jp5-b"
      }
    },
    {
      "cell_type": "code",
      "source": [
        "# Colonnes utilisées dans le modèle\n",
        "colonnes_modele = ['diagonal', 'height_left', 'height_right', 'margin_low', 'margin_up', 'length']\n",
        "\n",
        "# Normalisation\n",
        "df_test_scaled = scaler.transform(df_test[colonnes_modele])\n",
        "\n",
        "# Prédictions\n",
        "predictions = rf.predict(df_test_scaled)\n",
        "probas = rf.predict_proba(df_test_scaled)\n",
        "\n",
        "# Ajout des résultats\n",
        "df_test['is_genuine'] = predictions\n",
        "df_test['proba_faux'] = probas[:, 0].round(3)\n",
        "df_test['proba_vrai'] = probas[:, 1].round(3)\n",
        "\n",
        "# Affichage final\n",
        "colonnes_affichees = colonnes_modele + ['is_genuine', 'proba_faux', 'proba_vrai']\n",
        "display(df_test[['id'] + colonnes_affichees].head(10))\n",
        "\n"
      ],
      "metadata": {
        "id": "ABu_Lkdhp8NC"
      },
      "execution_count": null,
      "outputs": []
    }
  ]
}